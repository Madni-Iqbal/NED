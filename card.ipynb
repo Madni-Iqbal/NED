{
 "cells": [
  {
   "cell_type": "code",
   "execution_count": 3,
   "metadata": {},
   "outputs": [
    {
     "name": "stdout",
     "output_type": "stream",
     "text": [
      "Madni\n",
      "\n",
      "    NED University Karachi\n",
      "    PGD in Data Science and AI\n",
      "    Name = Madni\n",
      "    Father Name = Muhammad Iqbal\n",
      "    \n",
      "Muhammad Fawwad\n",
      "\n",
      "    NED University Karachi\n",
      "    PGD in Data Science and AI\n",
      "    Name = Muhammad Fawwad\n",
      "    Father Name = Muhammad Iqbal\n",
      "    \n",
      "Muhammad Farrukh\n",
      "\n",
      "    NED University Karachi\n",
      "    PGD in Data Science and AI\n",
      "    Name = Muhammad Farrukh\n",
      "    Father Name = Muhammad Iqbal\n",
      "    \n"
     ]
    }
   ],
   "source": [
    "names = ['Madni','Muhammad Fawwad','Muhammad Farrukh']\n",
    "for Student_name in names:\n",
    "    card= f\"\"\"\n",
    "    NED University Karachi\n",
    "    PGD in Data Science and AI\n",
    "    Name = {Student_name}\n",
    "    Father Name = Muhammad Iqbal\n",
    "    \"\"\"\n",
    "    print(Student_name)\n",
    "    print(card)"
   ]
  },
  {
   "cell_type": "code",
   "execution_count": 4,
   "metadata": {},
   "outputs": [
    {
     "name": "stdout",
     "output_type": "stream",
     "text": [
      "Abid son of Arif\n",
      "\n",
      "    NED University Karachi\n",
      "    PGD in Data Science and AI\n",
      "    Name = Abid\n",
      "    Father Name = Arif\n",
      "    \n",
      "Sudais son of Muhammad Farrukh\n",
      "\n",
      "    NED University Karachi\n",
      "    PGD in Data Science and AI\n",
      "    Name = Sudais\n",
      "    Father Name = Muhammad Farrukh\n",
      "    \n",
      "Areeb son of Sufyan\n",
      "\n",
      "    NED University Karachi\n",
      "    PGD in Data Science and AI\n",
      "    Name = Areeb\n",
      "    Father Name = Sufyan\n",
      "    \n"
     ]
    }
   ],
   "source": [
    "names2 = ['Abid','Sudais','Areeb']\n",
    "father_names2 = ['Arif','Muhammad Farrukh','Sufyan']\n",
    "\n",
    "for Student_name2,fathername in zip(names2,father_names2):\n",
    "    card2= f\"\"\"\n",
    "    NED University Karachi\n",
    "    PGD in Data Science and AI\n",
    "    Name = {Student_name2}\n",
    "    Father Name = {fathername}\n",
    "    \"\"\"\n",
    "    print(Student_name2 , 'son of' , fathername)\n",
    "    print(card2)"
   ]
  }
 ],
 "metadata": {
  "kernelspec": {
   "display_name": "Python 3",
   "language": "python",
   "name": "python3"
  },
  "language_info": {
   "codemirror_mode": {
    "name": "ipython",
    "version": 3
   },
   "file_extension": ".py",
   "mimetype": "text/x-python",
   "name": "python",
   "nbconvert_exporter": "python",
   "pygments_lexer": "ipython3",
   "version": "3.12.7"
  }
 },
 "nbformat": 4,
 "nbformat_minor": 2
}
