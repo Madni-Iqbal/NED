{
 "cells": [
  {
   "cell_type": "code",
   "execution_count": 10,
   "id": "fc2116c2-6d7d-4422-93ff-f0a248b86424",
   "metadata": {},
   "outputs": [
    {
     "name": "stdout",
     "output_type": "stream",
     "text": [
      "my name is Madni Iqbal and my father's name is Muhammad Iqbal\n",
      "<class 'str'>\n"
     ]
    }
   ],
   "source": [
    "name= 'my name is Madni Iqbal and my father\\'s name is Muhammad Iqbal'\n",
    "print (name)\n",
    "print (type(name))"
   ]
  },
  {
   "cell_type": "code",
   "execution_count": 19,
   "id": "167c92ae-9672-46df-b16a-d4343cbf7da7",
   "metadata": {},
   "outputs": [
    {
     "name": "stdout",
     "output_type": "stream",
     "text": [
      "Card \n",
      "Name = Madni \n",
      "Father Name = Iqbal\n"
     ]
    }
   ],
   "source": [
    "name = 'Madni'\n",
    "father_name= \"Iqbal\"\n",
    "\n",
    "Card= f'''Card \n",
    "Name = {name} \n",
    "Father Name = {father_name}'''\n",
    "\n",
    "print (Card)"
   ]
  },
  {
   "cell_type": "code",
   "execution_count": null,
   "id": "ce610901-c479-4691-90f5-b1af98751761",
   "metadata": {},
   "outputs": [],
   "source": []
  }
 ],
 "metadata": {
  "kernelspec": {
   "display_name": "Python 3 (ipykernel)",
   "language": "python",
   "name": "python3"
  },
  "language_info": {
   "codemirror_mode": {
    "name": "ipython",
    "version": 3
   },
   "file_extension": ".py",
   "mimetype": "text/x-python",
   "name": "python",
   "nbconvert_exporter": "python",
   "pygments_lexer": "ipython3",
   "version": "3.12.7"
  }
 },
 "nbformat": 4,
 "nbformat_minor": 5
}
