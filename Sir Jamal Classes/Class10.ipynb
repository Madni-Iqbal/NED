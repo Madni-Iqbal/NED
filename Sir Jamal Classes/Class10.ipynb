{
 "cells": [
  {
   "cell_type": "code",
   "execution_count": 6,
   "id": "fcc3cea0-0ecd-4d90-a114-fd55330708a5",
   "metadata": {},
   "outputs": [
    {
     "name": "stdout",
     "output_type": "stream",
     "text": [
      "Enter any number 90.123\n",
      "Enter any number 100.98\n",
      "Enter any operator +\n"
     ]
    },
    {
     "name": "stdout",
     "output_type": "stream",
     "text": [
      "result:  191.103\n"
     ]
    }
   ],
   "source": [
    "# Calculator using conditional statements\n",
    "number1 = float(input(\"Enter any number\"))\n",
    "number2 = float(input(\"Enter any number\"))\n",
    "operator = str(input(\"Enter any operator\"))\n",
    "if operator == \"+\":\n",
    "    print(\"result: \", number1+number2)\n",
    "elif operator == \"-\":\n",
    "    print(\"result: \", number1-number2)\n",
    "elif operator == \"/\":\n",
    "    if number2 == 0:\n",
    "        print(\"Zero Division Error, number cannot be divided by 0\")\n",
    "    else:\n",
    "        print(\"result: \", number1/number2)\n",
    "elif operator == \"*\":\n",
    "    print(\"result: \", number1*number2)\n",
    "else:\n",
    "    print(\"Your operator is not supported\")\n"
   ]
  },
  {
   "cell_type": "code",
   "execution_count": 7,
   "id": "e4449440-5664-4cb4-8067-80b5887e0498",
   "metadata": {},
   "outputs": [],
   "source": [
    "import math # whole import\n",
    "#import math as mt # alias\n",
    "#from math import sqrt # importing as sub modules"
   ]
  },
  {
   "cell_type": "code",
   "execution_count": 6,
   "id": "f3cfca6a-27ca-4717-8ddc-66fe859728a6",
   "metadata": {},
   "outputs": [
    {
     "data": {
      "text/plain": [
       "3.0"
      ]
     },
     "execution_count": 6,
     "metadata": {},
     "output_type": "execute_result"
    }
   ],
   "source": [
    "import math\n",
    "number1 = 9\n",
    "math.sqrt(number1)"
   ]
  },
  {
   "cell_type": "code",
   "execution_count": 1,
   "id": "aecce640-8ebf-454a-aa66-a5ee9caac55a",
   "metadata": {},
   "outputs": [
    {
     "ename": "NameError",
     "evalue": "name 'math' is not defined",
     "output_type": "error",
     "traceback": [
      "\u001b[1;31m---------------------------------------------------------------------------\u001b[0m",
      "\u001b[1;31mNameError\u001b[0m                                 Traceback (most recent call last)",
      "Cell \u001b[1;32mIn[1], line 1\u001b[0m\n\u001b[1;32m----> 1\u001b[0m \u001b[43mmath\u001b[49m\u001b[38;5;241m.\u001b[39mpi\n\u001b[0;32m      2\u001b[0m x \u001b[38;5;241m=\u001b[39m \u001b[38;5;241m100\u001b[39m\n",
      "\u001b[1;31mNameError\u001b[0m: name 'math' is not defined"
     ]
    }
   ],
   "source": [
    "math.pi\n",
    "x = 100"
   ]
  },
  {
   "cell_type": "code",
   "execution_count": 13,
   "id": "90fd9b9f-2f49-437d-9c98-2f3cf397b63a",
   "metadata": {},
   "outputs": [
    {
     "name": "stdout",
     "output_type": "stream",
     "text": [
      "Enter any number 100\n",
      "Enter any number 3\n",
      "Enter any operator **\n"
     ]
    },
    {
     "name": "stdout",
     "output_type": "stream",
     "text": [
      "1000000.0\n"
     ]
    }
   ],
   "source": [
    "number1 = float(input(\"Enter any number\"))\n",
    "number2 = float(input(\"Enter any number\"))\n",
    "operator = str(input(\"Enter any operator\"))\n",
    "\n",
    "result = eval(f\"{number1} {operator} {number2}\")\n",
    "print(result)"
   ]
  },
  {
   "cell_type": "code",
   "execution_count": 16,
   "id": "e7a695c6-bd40-463e-90ea-581ccc00886b",
   "metadata": {},
   "outputs": [
    {
     "name": "stdout",
     "output_type": "stream",
     "text": [
      "jamal\n"
     ]
    }
   ],
   "source": [
    "string = \"JAMAL\"\n",
    "print(string.lower())"
   ]
  },
  {
   "cell_type": "code",
   "execution_count": 24,
   "id": "36233e82-e9b1-4097-87b8-7fde9ff3f4d4",
   "metadata": {},
   "outputs": [
    {
     "name": "stdout",
     "output_type": "stream",
     "text": [
      "[0, 1, 2, 3, 4, 5, 6, 7, 8, 9, 10, 11, 12, 13, 14, 15, 16, 17, 18, 19, 20, 21, 22, 23, 24, 25, 26, 27, 28, 29, 30, 31, 32, 33, 34, 35, 36, 37, 38, 39, 40, 41, 42, 43, 44, 45, 46, 47, 48, 49, 50, 51, 52, 53, 54, 55, 56, 57, 58, 59, 60, 61, 62, 63, 64, 65, 66, 67, 68, 69, 70, 71, 72, 73, 74, 75, 76, 77, 78, 79, 80, 81, 82, 83, 84, 85, 86, 87, 88, 89, 90, 91, 92, 93, 94, 95, 96, 97, 98, 99]\n",
      "Total time:  0.0\n"
     ]
    }
   ],
   "source": [
    "# Generator Expressions & List Comprehensions\n",
    "import time\n",
    "start = time.time()\n",
    "numbers = []\n",
    "for i in range(0,100):\n",
    "    numbers.append(i)\n",
    "end = time.time()\n",
    "print(numbers)\n",
    "print(\"Total time: \", end-start) \n"
   ]
  },
  {
   "cell_type": "code",
   "execution_count": 26,
   "id": "fb95aac1-b4e4-4b60-a3c5-b2c6a7b97811",
   "metadata": {},
   "outputs": [
    {
     "name": "stdout",
     "output_type": "stream",
     "text": [
      "[0, 1, 4, 9, 16, 25, 36, 49, 64, 81, 100, 121, 144, 169, 196, 225, 256, 289, 324, 361, 400, 441, 484, 529, 576, 625, 676, 729, 784, 841, 900, 961, 1024, 1089, 1156, 1225, 1296, 1369, 1444, 1521, 1600, 1681, 1764, 1849, 1936, 2025, 2116, 2209, 2304, 2401, 2500, 2601, 2704, 2809, 2916, 3025, 3136, 3249, 3364, 3481, 3600, 3721, 3844, 3969, 4096, 4225, 4356, 4489, 4624, 4761, 4900, 5041, 5184, 5329, 5476, 5625, 5776, 5929, 6084, 6241, 6400, 6561, 6724, 6889, 7056, 7225, 7396, 7569, 7744, 7921, 8100, 8281, 8464, 8649, 8836, 9025, 9216, 9409, 9604, 9801]\n",
      "Total time:  0.0\n"
     ]
    }
   ],
   "source": [
    "numbers = [i**2 for i in range(0,100)]\n",
    "print(numbers)"
   ]
  },
  {
   "cell_type": "code",
   "execution_count": 28,
   "id": "64f86635-e541-441f-b48c-6e254376a8d4",
   "metadata": {},
   "outputs": [
    {
     "data": {
      "text/plain": [
       "1737878673.0935793"
      ]
     },
     "execution_count": 28,
     "metadata": {},
     "output_type": "execute_result"
    }
   ],
   "source": [
    "import time\n",
    "time.time()"
   ]
  },
  {
   "cell_type": "code",
   "execution_count": 8,
   "id": "64a79f04-3cb3-4f3c-af3f-77b177cd052b",
   "metadata": {},
   "outputs": [
    {
     "name": "stdout",
     "output_type": "stream",
     "text": [
      "[0, 2, 4, 6, 8, 10, 12, 14, 16, 18, 20, 22, 24, 26, 28, 30, 32, 34, 36, 38, 40, 42, 44, 46, 48, 50, 52, 54, 56, 58, 60, 62, 64, 66, 68, 70, 72, 74, 76, 78, 80, 82, 84, 86, 88, 90, 92, 94, 96, 98, 100, 102, 104, 106, 108, 110, 112, 114, 116, 118, 120, 122, 124, 126, 128, 130, 132, 134, 136, 138, 140, 142, 144, 146, 148, 150, 152, 154, 156, 158, 160, 162, 164, 166, 168, 170, 172, 174, 176, 178, 180, 182, 184, 186, 188, 190, 192, 194, 196, 198, 200, 202, 204, 206, 208, 210, 212, 214, 216, 218, 220, 222, 224, 226, 228, 230, 232, 234, 236, 238, 240, 242, 244, 246, 248, 250, 252, 254, 256, 258, 260, 262, 264, 266, 268, 270, 272, 274, 276, 278, 280, 282, 284, 286, 288, 290, 292, 294, 296, 298, 300, 302, 304, 306, 308, 310, 312, 314, 316, 318, 320, 322, 324, 326, 328, 330, 332, 334, 336, 338, 340, 342, 344, 346, 348, 350, 352, 354, 356, 358, 360, 362, 364, 366, 368, 370, 372, 374, 376, 378, 380, 382, 384, 386, 388, 390, 392, 394, 396, 398, 400, 402, 404, 406, 408, 410, 412, 414, 416, 418, 420, 422, 424, 426, 428, 430, 432, 434, 436, 438, 440, 442, 444, 446, 448, 450, 452, 454, 456, 458, 460, 462, 464, 466, 468, 470, 472, 474, 476, 478, 480, 482, 484, 486, 488, 490, 492, 494, 496, 498, 500, 502, 504, 506, 508, 510, 512, 514, 516, 518, 520, 522, 524, 526, 528, 530, 532, 534, 536, 538, 540, 542, 544, 546, 548, 550, 552, 554, 556, 558, 560, 562, 564, 566, 568, 570, 572, 574, 576, 578, 580, 582, 584, 586, 588, 590, 592, 594, 596, 598, 600, 602, 604, 606, 608, 610, 612, 614, 616, 618, 620, 622, 624, 626, 628, 630, 632, 634, 636, 638, 640, 642, 644, 646, 648, 650, 652, 654, 656, 658, 660, 662, 664, 666, 668, 670, 672, 674, 676, 678, 680, 682, 684, 686, 688, 690, 692, 694, 696, 698, 700, 702, 704, 706, 708, 710, 712, 714, 716, 718, 720, 722, 724, 726, 728, 730, 732, 734, 736, 738, 740, 742, 744, 746, 748, 750, 752, 754, 756, 758, 760, 762, 764, 766, 768, 770, 772, 774, 776, 778, 780, 782, 784, 786, 788, 790, 792, 794, 796, 798, 800, 802, 804, 806, 808, 810, 812, 814, 816, 818, 820, 822, 824, 826, 828, 830, 832, 834, 836, 838, 840, 842, 844, 846, 848, 850, 852, 854, 856, 858, 860, 862, 864, 866, 868, 870, 872, 874, 876, 878, 880, 882, 884, 886, 888, 890, 892, 894, 896, 898, 900, 902, 904, 906, 908, 910, 912, 914, 916, 918, 920, 922, 924, 926, 928, 930, 932, 934, 936, 938, 940, 942, 944, 946, 948, 950, 952, 954, 956, 958, 960, 962, 964, 966, 968, 970, 972, 974, 976, 978, 980, 982, 984, 986, 988, 990, 992, 994, 996, 998]\n",
      "<class 'list'>\n"
     ]
    }
   ],
   "source": [
    "numbers = [i for i in range(0,1000) if i%2 == 0]\n",
    "print(numbers)\n",
    "print(type(numbers))"
   ]
  },
  {
   "cell_type": "code",
   "execution_count": 33,
   "id": "341bbea1-8ea0-4eba-bedb-84ebc97612f6",
   "metadata": {},
   "outputs": [
    {
     "name": "stdout",
     "output_type": "stream",
     "text": [
      "<class 'list'>\n"
     ]
    }
   ],
   "source": [
    "print(type(numbers))"
   ]
  },
  {
   "cell_type": "code",
   "execution_count": 23,
   "id": "69469f60-00df-4d60-afe7-1ab57d720b16",
   "metadata": {},
   "outputs": [
    {
     "name": "stdout",
     "output_type": "stream",
     "text": [
      "<generator object <genexpr> at 0x0000013EDF5B1B10>\n",
      "<class 'generator'>\n"
     ]
    }
   ],
   "source": [
    "numbers = (i for i in range(0,10) if i%2 == 0)\n",
    "print(numbers)\n",
    "print(type(numbers))"
   ]
  },
  {
   "cell_type": "code",
   "execution_count": 42,
   "id": "791f0bba-a39c-4070-8d87-007c3e7042fd",
   "metadata": {},
   "outputs": [
    {
     "name": "stdout",
     "output_type": "stream",
     "text": [
      "0\n",
      "2\n",
      "4\n",
      "6\n",
      "8\n"
     ]
    }
   ],
   "source": [
    "for i in numbers:\n",
    "    print(i)"
   ]
  },
  {
   "cell_type": "code",
   "execution_count": 36,
   "id": "3e2dc808-b483-48ff-86aa-51a5d5625be5",
   "metadata": {},
   "outputs": [
    {
     "data": {
      "text/plain": [
       "2"
      ]
     },
     "execution_count": 36,
     "metadata": {},
     "output_type": "execute_result"
    }
   ],
   "source": [
    "next(numbers)"
   ]
  },
  {
   "cell_type": "code",
   "execution_count": 37,
   "id": "8dc0456a-8895-4f2c-9820-508739188ac8",
   "metadata": {},
   "outputs": [
    {
     "data": {
      "text/plain": [
       "4"
      ]
     },
     "execution_count": 37,
     "metadata": {},
     "output_type": "execute_result"
    }
   ],
   "source": [
    "next(numbers)"
   ]
  },
  {
   "cell_type": "code",
   "execution_count": 38,
   "id": "146483e8-1fcc-4008-b640-627448ebb1cf",
   "metadata": {},
   "outputs": [
    {
     "data": {
      "text/plain": [
       "6"
      ]
     },
     "execution_count": 38,
     "metadata": {},
     "output_type": "execute_result"
    }
   ],
   "source": [
    "next(numbers)"
   ]
  },
  {
   "cell_type": "code",
   "execution_count": 39,
   "id": "25789221-0be0-4c82-9d66-dda6c0bf2f57",
   "metadata": {},
   "outputs": [
    {
     "data": {
      "text/plain": [
       "8"
      ]
     },
     "execution_count": 39,
     "metadata": {},
     "output_type": "execute_result"
    }
   ],
   "source": [
    "next(numbers)"
   ]
  },
  {
   "cell_type": "code",
   "execution_count": 43,
   "id": "b1eed21f-43fd-4d63-865b-48810667c517",
   "metadata": {},
   "outputs": [
    {
     "name": "stdout",
     "output_type": "stream",
     "text": [
      "The CPU usage is:  12.9\n"
     ]
    }
   ],
   "source": [
    "import psutil\n",
    " \n",
    "# Calling psutil.cpu_precent() for 4 seconds\n",
    "print('The CPU usage is: ', psutil.cpu_percent(4))"
   ]
  },
  {
   "cell_type": "code",
   "execution_count": 44,
   "id": "68e74582-8051-4d59-9acf-60e7193e472a",
   "metadata": {},
   "outputs": [
    {
     "name": "stdout",
     "output_type": "stream",
     "text": [
      "RAM memory % used: 32.6\n",
      "RAM Used (GB): 13.788061696\n"
     ]
    }
   ],
   "source": [
    "# Importing the library\n",
    "import psutil\n",
    "\n",
    "# Getting % usage of virtual_memory ( 3rd field)\n",
    "print('RAM memory % used:', psutil.virtual_memory()[2])\n",
    "# Getting usage of virtual_memory in GB ( 4th field)\n",
    "print('RAM Used (GB):', psutil.virtual_memory()[3]/1000000000)\n"
   ]
  },
  {
   "cell_type": "code",
   "execution_count": 48,
   "id": "8e816049-c390-4dc3-a75d-654c86ff488c",
   "metadata": {},
   "outputs": [],
   "source": [
    "value = \"odd\""
   ]
  },
  {
   "cell_type": "code",
   "execution_count": 50,
   "id": "97ed9dbe-3ee3-4814-9bc0-4245d17fac35",
   "metadata": {},
   "outputs": [
    {
     "name": "stdout",
     "output_type": "stream",
     "text": [
      "[0, 'ODD', 2, 'ODD', 4, 'ODD', 6, 'ODD', 8, 'ODD']\n"
     ]
    }
   ],
   "source": [
    "numbers = [ i if i%2 == 0 else value.upper() for i in range(0,10)]\n",
    "print(numbers)"
   ]
  },
  {
   "cell_type": "code",
   "execution_count": 53,
   "id": "a7b66017-e5fb-41d9-b721-89f11b33533c",
   "metadata": {},
   "outputs": [
    {
     "name": "stdout",
     "output_type": "stream",
     "text": [
      "[47380, 25855, 14674, 97453, 46397, 78509, 40485, 71057, 40556, 67011, 43908, 71117, 42098, 41294, 33520, 89781, 5987, 60056, 20724, 60332, 87925, 32081, 72208, 98017, 72695, 65849, 97084, 74444, 34674, 59722, 94852, 24319, 65486, 24243, 88455, 19802, 54382, 18731, 1640, 61086, 17462, 16755, 12955, 81888, 30488, 70380, 91855, 17990, 18209, 69970, 47147, 3631, 69180, 59777, 62755, 13471, 50440, 63879, 86777, 45223, 78345, 8118, 16409, 25611, 30377, 22000, 17804, 90133, 61315, 54243, 68547, 10673, 23580, 1541, 13005, 63701, 9260, 34152, 18588, 51868, 98109, 15262, 19742, 51931, 41600, 65400, 93628, 47568, 23529, 49630, 84094, 27322, 90298, 38439, 75825, 93954, 31951, 73193, 40788, 81546, 8369]\n"
     ]
    }
   ],
   "source": [
    "# generate a random sequence of length 100\n",
    "import random\n",
    "random_sequence = []\n",
    "for i in range(0,101):\n",
    "    random_sequence.append(random.randint(0,100000))\n",
    "print(random_sequence)"
   ]
  },
  {
   "cell_type": "code",
   "execution_count": 57,
   "id": "1dbc708f-6ed3-4729-b655-4aca6a849447",
   "metadata": {},
   "outputs": [
    {
     "name": "stdout",
     "output_type": "stream",
     "text": [
      "[84235, 158, 41799, 48707, 95377, 26986, 84134, 24734, 55439, 89139, 28323, 87611, 31115, 43039, 80885, 49426, 62648, 12195, 84284, 28508, 99827, 65898, 82151, 44429, 36554, 13019, 15936, 47302, 70903, 17639, 74531, 75733, 92678, 16328, 14219, 76832, 14308, 63370, 96143, 16996, 63694, 43244, 83620, 29606, 60969, 47863, 87665, 86239, 90566, 3802, 75482, 82176, 2255, 6526, 17359, 89287, 66511, 29042, 81278, 94484, 73216, 49515, 33894, 65057, 99574, 44260, 97908, 41332, 92343, 16500, 56828, 60019, 91304, 57554, 79327, 59973, 49438, 20748, 32404, 49305, 63674, 50854, 2244, 72841, 215, 51298, 94942, 51688, 4056, 18352, 2818, 8361, 16684, 47002, 81688, 87036, 12735, 17853, 64364, 18604]\n"
     ]
    }
   ],
   "source": [
    "random_sequence = [random.randint(0,100000) for i in range(0,100)]\n",
    "print(random_sequence)"
   ]
  },
  {
   "cell_type": "code",
   "execution_count": 64,
   "id": "943db3e2-7d0a-4de6-81f0-361e6d8f4bb1",
   "metadata": {},
   "outputs": [
    {
     "name": "stdout",
     "output_type": "stream",
     "text": [
      "['Waqar', 'hassan', 'Aneeq']\n"
     ]
    }
   ],
   "source": [
    "names = [\"Jamal\", \"hassan\", \"Aneeq\", \"masood\", \"Waqar\"]\n",
    "print(random.choices(names,k=3))"
   ]
  },
  {
   "cell_type": "code",
   "execution_count": 86,
   "id": "712d38e7-d7a7-47bd-a278-f855a0d708f2",
   "metadata": {},
   "outputs": [
    {
     "name": "stdout",
     "output_type": "stream",
     "text": [
      "*bJ4tL,1#Z[*C5l>1WC4\n"
     ]
    }
   ],
   "source": [
    "import string\n",
    "\n",
    "digits = string.digits\n",
    "punctuation= string.punctuation\n",
    "#characters = string.charac\n",
    "alphabet_lower = string.ascii_lowercase\n",
    "alphabet_upper = string.ascii_uppercase\n",
    "all_c = [digits, punctuation,alphabet_lower,alphabet_upper]\n",
    "password = \"\"\n",
    "for i in range(0,20):\n",
    "    choice = random.choice(all_c)\n",
    "    #print(choice)\n",
    "    password += random.choice(choice)\n",
    "print(password)"
   ]
  },
  {
   "cell_type": "code",
   "execution_count": 81,
   "id": "51b412ab-897d-422e-a9cd-eb6f3973414b",
   "metadata": {},
   "outputs": [
    {
     "data": {
      "text/plain": [
       "['0123456789',\n",
       " '!\"#$%&\\'()*+,-./:;<=>?@[\\\\]^_`{|}~',\n",
       " 'abcdefghijklmnopqrstuvwxyz',\n",
       " 'ABCDEFGHIJKLMNOPQRSTUVWXYZ']"
      ]
     },
     "execution_count": 81,
     "metadata": {},
     "output_type": "execute_result"
    }
   ],
   "source": [
    "all_c"
   ]
  },
  {
   "cell_type": "code",
   "execution_count": 96,
   "id": "3b91c119-c990-4324-9fbc-d0e093689cf0",
   "metadata": {},
   "outputs": [
    {
     "name": "stdout",
     "output_type": "stream",
     "text": [
      "before conversion:  ['U', 'N', '\"', 'K', '\\\\', 'a', 'K', '0', '[', '6']\n",
      "UN\"K\\aK0[6\n"
     ]
    }
   ],
   "source": [
    "all_c = string.digits + string.punctuation + string.ascii_lowercase + string.ascii_uppercase\n",
    "password =  random.choices(all_c,k=10)\n",
    "print(\"before conversion: \",password)\n",
    "password = ''.join(password) # convert a list into a string\n",
    "print(password)\n"
   ]
  },
  {
   "cell_type": "markdown",
   "id": "c9861d02-07f4-4ae4-83b0-c057b2c3abdd",
   "metadata": {},
   "source": [
    "# Functions\n",
    "### parameterized and non parameterized"
   ]
  },
  {
   "cell_type": "code",
   "execution_count": 106,
   "id": "c9e142e0-4596-426e-9d04-869ff70bcb44",
   "metadata": {},
   "outputs": [],
   "source": [
    "# non parameterized\n",
    "def greeting2():\n",
    "    print(\"hello World\")"
   ]
  },
  {
   "cell_type": "code",
   "execution_count": 99,
   "id": "709bdcb3-2b8a-4c9d-b521-c4d749770336",
   "metadata": {},
   "outputs": [
    {
     "name": "stdout",
     "output_type": "stream",
     "text": [
      "hello World\n"
     ]
    }
   ],
   "source": [
    "greeting()"
   ]
  },
  {
   "cell_type": "code",
   "execution_count": 100,
   "id": "30fe0295-792e-4710-9f17-13d1b12172d8",
   "metadata": {},
   "outputs": [
    {
     "name": "stdout",
     "output_type": "stream",
     "text": [
      "hello World\n"
     ]
    }
   ],
   "source": [
    "greeting()"
   ]
  },
  {
   "cell_type": "code",
   "execution_count": 102,
   "id": "e715a25e-7d00-4e3b-b4b8-42def748daf3",
   "metadata": {},
   "outputs": [],
   "source": [
    "def greeting():\n",
    "     return (\"hello World\")\n",
    "    "
   ]
  },
  {
   "cell_type": "code",
   "execution_count": 105,
   "id": "d799f367-6d2b-4eb9-931f-bfaf2abc9a5a",
   "metadata": {},
   "outputs": [
    {
     "name": "stdout",
     "output_type": "stream",
     "text": [
      "hello World\n"
     ]
    }
   ],
   "source": [
    "hello = greeting()\n",
    "print(hello)"
   ]
  },
  {
   "cell_type": "code",
   "execution_count": 107,
   "id": "17b8f1b5-a8d3-4ceb-88da-fb6bd3679a2b",
   "metadata": {},
   "outputs": [
    {
     "name": "stdout",
     "output_type": "stream",
     "text": [
      "hello World\n",
      "None\n"
     ]
    }
   ],
   "source": [
    "hello2 = greeting2()\n",
    "print(hello2)"
   ]
  },
  {
   "cell_type": "code",
   "execution_count": 111,
   "id": "bce86242-167f-4449-9f42-4516374b1b28",
   "metadata": {},
   "outputs": [],
   "source": [
    "def password_generator(length):\n",
    "    all_c = string.digits + string.punctuation + string.ascii_lowercase + string.ascii_uppercase\n",
    "    password =  random.choices(all_c,k=length)\n",
    "    password = ''.join(password)\n",
    "    return password"
   ]
  },
  {
   "cell_type": "code",
   "execution_count": 118,
   "id": "d55b1b16-432e-4ebe-9dce-0817ac914f99",
   "metadata": {},
   "outputs": [
    {
     "name": "stdout",
     "output_type": "stream",
     "text": [
      "e%+7C;Z,PJe[Mk;]^C\n"
     ]
    }
   ],
   "source": [
    "#length = int(input(\"enter any number\"))\n",
    " \n",
    "print(password_generator(18))"
   ]
  },
  {
   "cell_type": "code",
   "execution_count": 119,
   "id": "bd03172a-7dd8-4b6d-a2d7-39ca850cbbed",
   "metadata": {},
   "outputs": [],
   "source": [
    "password = password_generator(10)"
   ]
  },
  {
   "cell_type": "code",
   "execution_count": 120,
   "id": "d417724e-43fa-462c-a5f3-7e0eb662930a",
   "metadata": {},
   "outputs": [
    {
     "data": {
      "text/plain": [
       "'xe)Sfye_z|'"
      ]
     },
     "execution_count": 120,
     "metadata": {},
     "output_type": "execute_result"
    }
   ],
   "source": [
    "password"
   ]
  },
  {
   "cell_type": "code",
   "execution_count": 121,
   "id": "719cb81f-ca8a-4ebd-b52b-dc734f2db1f1",
   "metadata": {},
   "outputs": [
    {
     "data": {
      "text/plain": [
       "'xe)Sfye_z|'"
      ]
     },
     "execution_count": 121,
     "metadata": {},
     "output_type": "execute_result"
    }
   ],
   "source": [
    "password"
   ]
  },
  {
   "cell_type": "code",
   "execution_count": null,
   "id": "8a11fa5c-f64e-4996-9102-2ed9f8fdf085",
   "metadata": {},
   "outputs": [],
   "source": []
  }
 ],
 "metadata": {
  "kernelspec": {
   "display_name": "Python 3",
   "language": "python",
   "name": "python3"
  },
  "language_info": {
   "codemirror_mode": {
    "name": "ipython",
    "version": 3
   },
   "file_extension": ".py",
   "mimetype": "text/x-python",
   "name": "python",
   "nbconvert_exporter": "python",
   "pygments_lexer": "ipython3",
   "version": "3.12.7"
  }
 },
 "nbformat": 4,
 "nbformat_minor": 5
}
