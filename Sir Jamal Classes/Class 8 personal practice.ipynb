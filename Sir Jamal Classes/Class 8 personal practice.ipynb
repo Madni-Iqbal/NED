{
 "cells": [
  {
   "cell_type": "code",
   "execution_count": 10,
   "metadata": {},
   "outputs": [
    {
     "name": "stdout",
     "output_type": "stream",
     "text": [
      "name\n",
      "fathername\n",
      "mothername\n",
      "age\n",
      "city\n"
     ]
    }
   ],
   "source": [
    "one=['name','fathername','mothername','age','city']\n",
    "for two in one :\n",
    "    print (two)"
   ]
  },
  {
   "cell_type": "code",
   "execution_count": 14,
   "metadata": {},
   "outputs": [
    {
     "name": "stdout",
     "output_type": "stream",
     "text": [
      "['apple', 'strawberry', 'guava', 'MANGO']\n",
      "['apple', 'guava', 'MANGO', 'STRAWBERRY']\n",
      "['apple', 'guava', 'STRAWBERRY', 'MANGO']\n",
      "['apple', 'guava', 'STRAWBERRY', 'MANGO']\n"
     ]
    }
   ],
   "source": [
    "fruits = [\"mango\",\"apple\",\"strawberry\",\"guava\"]\n",
    "\n",
    "for fruit in fruits:\n",
    "    fruits.remove(fruit)\n",
    "    fruits.append(fruit.upper())\n",
    "    print(fruits)"
   ]
  }
 ],
 "metadata": {
  "kernelspec": {
   "display_name": "Python 3",
   "language": "python",
   "name": "python3"
  },
  "language_info": {
   "codemirror_mode": {
    "name": "ipython",
    "version": 3
   },
   "file_extension": ".py",
   "mimetype": "text/x-python",
   "name": "python",
   "nbconvert_exporter": "python",
   "pygments_lexer": "ipython3",
   "version": "3.12.7"
  }
 },
 "nbformat": 4,
 "nbformat_minor": 2
}
