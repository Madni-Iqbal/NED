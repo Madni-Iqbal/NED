{
 "cells": [
  {
   "cell_type": "code",
   "execution_count": 3,
   "id": "86dce88e-ffaa-4682-bf7a-af7abf2a345c",
   "metadata": {},
   "outputs": [
    {
     "name": "stdout",
     "output_type": "stream",
     "text": [
      "2197944448224\n"
     ]
    }
   ],
   "source": [
    "name = 'Madni'\n",
    "print(id(name))"
   ]
  },
  {
   "cell_type": "code",
   "execution_count": 4,
   "id": "13d7a3e6-ff5b-4e4f-83bf-ad174aacf7fe",
   "metadata": {},
   "outputs": [
    {
     "name": "stdin",
     "output_type": "stream",
     "text": [
      "Please enter your name Madni Iqbal\n"
     ]
    },
    {
     "name": "stdout",
     "output_type": "stream",
     "text": [
      "Hello, your name is Madni Iqbal\n"
     ]
    }
   ],
   "source": [
    "name = str(input(\"Please enter your name\"))\n",
    "#input() method is used to take user input at run time\n",
    "print(f\"Hello, your name is {name}\")"
   ]
  },
  {
   "cell_type": "code",
   "execution_count": 12,
   "id": "d4c33ebe-84e9-433d-8873-ac733a6d2e7b",
   "metadata": {},
   "outputs": [
    {
     "name": "stdin",
     "output_type": "stream",
     "text": [
      "PLease enter age:  36\n"
     ]
    },
    {
     "name": "stdout",
     "output_type": "stream",
     "text": [
      "your age is 36\n",
      "<class 'int'>\n",
      "36.0\n",
      "<class 'float'>\n"
     ]
    }
   ],
   "source": [
    "age = int(input('PLease enter age: '))\n",
    "print(f'your age is {age}')\n",
    "print(type(age))\n",
    "age1=float(age)\n",
    "print(age1)\n",
    "print(type(age1))"
   ]
  },
  {
   "cell_type": "code",
   "execution_count": null,
   "id": "6056ff3d-cdb8-460a-a4b3-455b0a8e637b",
   "metadata": {},
   "outputs": [],
   "source": []
  }
 ],
 "metadata": {
  "kernelspec": {
   "display_name": "Python 3 (ipykernel)",
   "language": "python",
   "name": "python3"
  },
  "language_info": {
   "codemirror_mode": {
    "name": "ipython",
    "version": 3
   },
   "file_extension": ".py",
   "mimetype": "text/x-python",
   "name": "python",
   "nbconvert_exporter": "python",
   "pygments_lexer": "ipython3",
   "version": "3.12.7"
  }
 },
 "nbformat": 4,
 "nbformat_minor": 5
}
